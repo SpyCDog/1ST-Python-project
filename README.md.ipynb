{
 "cells": [
  {
   "attachments": {},
   "cell_type": "markdown",
   "metadata": {},
   "source": [
    "# Code explanation\n",
    "\n",
    "    The code that i write is kind of Auto attendant, and mainly use by the AGENT to make actions. like a \"CRM\" system.   \n",
    "    The AGENT only can access data of Events,Services and Customers, customers can access ONLY, to add themselves as new customer lead or exist customer lead.   \n",
    "    All of the actions made only by agent and protect by {agent name : password}.   \n",
    "    For each class, i write its own list, set as class that contains list of objects.   \n",
    "    I also create a file of constants.    \n",
    "\n",
    "Customer class:    \n",
    "-add customer   \n",
    "-remove customer by id   \n",
    "-find by customer id   \n",
    "-display all customers   \n",
    "-add event to customer(ive created list of event id as an artibut in the consructor of Customer)   \n",
    "   \n",
    "Event class:   \n",
    "-add event    \n",
    "-remove event by id   \n",
    "-find by event id   \n",
    "-display all events   \n",
    "-display all events with not enough budget.    \n",
    "-add services to event(based on the event type as well as the service type).(ive created list of services as an artibut in the consructor of Event)   \n",
    "\n",
    "\n",
    "Service class:   \n",
    "-add service   \n",
    "-remove service by id   \n",
    "-find by service name   \n",
    "-display all services   \n",
    "\n",
    "Lead class:     \n",
    "-add lead   \n",
    "\n",
    "\n",
    "\n",
    "\n",
    "\n"
   ]
  },
  {
   "attachments": {},
   "cell_type": "markdown",
   "metadata": {},
   "source": [
    "# $$NOTES$$\n",
    "***\n",
    "***\n",
    "\n",
    " # Random function\n",
    "I didn't want the code to get too messy so I made the random function in wide range of numbers.\n",
    "\n",
    "I'm understanding the consequences that may occur during the use of it:\n",
    "\n",
    "    1) Hard coded numbers are not a proper way\n",
    "\n",
    "    2) It can also generate the same ID over again\n",
    "    \n",
    "# Counter for agent login\n",
    "\n",
    "I added login attempts and i know its get to the start all over again.\n",
    "\n",
    "I didnt want to many itirations.\n",
    "\n",
    "***\n",
    "Sorry for the delay,  \n",
    " I've been working on the code really hard but i didnt menegegd to get the code as i wanted ):  \n",
    "\n",
    "\n",
    "My plan is to keep working on this code and improving it.\n",
    "\n",
    " ***"
   ]
  },
  {
   "attachments": {},
   "cell_type": "markdown",
   "metadata": {},
   "source": []
  }
 ],
 "metadata": {
  "kernelspec": {
   "display_name": "Python 3",
   "language": "python",
   "name": "python3"
  },
  "language_info": {
   "codemirror_mode": {
    "name": "ipython",
    "version": 3
   },
   "file_extension": ".py",
   "mimetype": "text/x-python",
   "name": "python",
   "nbconvert_exporter": "python",
   "pygments_lexer": "ipython3",
   "version": "3.11.0"
  },
  "orig_nbformat": 4
 },
 "nbformat": 4,
 "nbformat_minor": 2
}
